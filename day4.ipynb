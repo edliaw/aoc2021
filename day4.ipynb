{
 "cells": [
  {
   "cell_type": "code",
   "execution_count": 1,
   "metadata": {},
   "outputs": [],
   "source": [
    "infile = \"day4.txt\""
   ]
  },
  {
   "cell_type": "code",
   "execution_count": 2,
   "metadata": {},
   "outputs": [],
   "source": [
    "from collections import Counter\n",
    "\n",
    "class Board:\n",
    "    def __init__(self, grid):\n",
    "        self.grid = grid\n",
    "        self.reset()\n",
    "\n",
    "    def __repr__(self):\n",
    "        result = []\n",
    "        for r, row in enumerate(self.grid):\n",
    "            res = []\n",
    "            for c, val in enumerate(row):\n",
    "                if (r, c) in self.marked:\n",
    "                    s = f\"({val: >02d})\"\n",
    "                else:\n",
    "                    s = f\" {val: >02d} \"\n",
    "                res.append(s)\n",
    "            result.append(\" \".join(res))\n",
    "        result.append(\" \".join(k for k, v in self.counts.items() if v == 5))\n",
    "        return \"\\n\".join(result)\n",
    "\n",
    "    def reset(self):\n",
    "        self.marked = set()\n",
    "        self.counts = Counter()\n",
    "        \n",
    "    def mark(self, x):\n",
    "        for r, row in enumerate(self.grid):\n",
    "            for c, val in enumerate(row):\n",
    "                if x == val and (r, c) not in self.marked:\n",
    "                    self.marked.add((r, c))\n",
    "                    #if r == c:\n",
    "                    #    self.counts[\"\\\\\"] += 1\n",
    "                    #if r == 4 - c:\n",
    "                    #    self.counts[\"/\"] += 1\n",
    "                    self.counts[f\"-{r}\"] += 1\n",
    "                    self.counts[f\"|{c}\"] += 1\n",
    "\n",
    "    def won(self):\n",
    "        return 5 in self.counts.values()\n",
    "    \n",
    "    def score(self, final):\n",
    "        tot = 0\n",
    "        for r, row in enumerate(self.grid):\n",
    "            for c, val in enumerate(row):\n",
    "                if (r, c) not in self.marked:\n",
    "                    tot += val\n",
    "        return tot * final"
   ]
  },
  {
   "cell_type": "code",
   "execution_count": 3,
   "metadata": {},
   "outputs": [],
   "source": [
    "def parse_file(fn):\n",
    "    with open(fn) as fd:\n",
    "        drawn = [int(x) for x in next(fd).rstrip().split(',')]\n",
    "        boards = parse_boards(fd)\n",
    "    return drawn, boards\n",
    "\n",
    "def parse_boards(fd):\n",
    "    boards = []\n",
    "    for space in fd:\n",
    "        board = []\n",
    "        for i in range(5):\n",
    "            l = [int(x) for x in next(fd).strip().split()]\n",
    "            board.append(l)\n",
    "        boards.append(Board(board))\n",
    "    return boards"
   ]
  },
  {
   "cell_type": "code",
   "execution_count": 4,
   "metadata": {},
   "outputs": [],
   "source": [
    "def part1(drawn, boards):\n",
    "    for n in drawn:\n",
    "        for b in boards:\n",
    "            b.mark(n)\n",
    "            if b.won():\n",
    "                print(b, n)\n",
    "                return b.score(n)"
   ]
  },
  {
   "cell_type": "code",
   "execution_count": 5,
   "metadata": {},
   "outputs": [],
   "source": [
    "def part2(drawn, boards):\n",
    "    not_won = set(range(len(boards)))\n",
    "    won = set()\n",
    "    for n in drawn:\n",
    "        for i in not_won:\n",
    "            b = boards[i]\n",
    "            b.mark(n)\n",
    "            if b.won():\n",
    "                won.add(i)\n",
    "                if len(won) == len(boards):\n",
    "                    print(b, n)\n",
    "                    return b.score(n)\n",
    "        not_won.difference_update(won)"
   ]
  },
  {
   "cell_type": "code",
   "execution_count": 6,
   "metadata": {},
   "outputs": [
    {
     "name": "stdout",
     "output_type": "stream",
     "text": [
      " 99   54   74   83   92 \n",
      " 27   53   15  ( 8) (85)\n",
      " 94   36   63   29   91 \n",
      "(58) (10) (45) (38) (79)\n",
      "  9   95   23   98   33 \n",
      "-3 10\n",
      "10680\n",
      "(18)  49   71   59   90 \n",
      "(97) (37) (23) (68) (62)\n",
      " 48  ( 8) (14) (81) (26)\n",
      " 88  ( 4) (22) (76) (12)\n",
      "(60) (99)  64  (17) (46)\n",
      "-1 68\n",
      "31892\n"
     ]
    }
   ],
   "source": [
    "drawn, boards = parse_file(infile)\n",
    "print(part1(drawn, boards))\n",
    "[b.reset() for b in boards]\n",
    "print(part2(drawn, boards))"
   ]
  }
 ],
 "metadata": {
  "interpreter": {
   "hash": "a49a3667c99b9642d03d5d64758329c9f74c3eae43701fd6be4f97bde07c93ac"
  },
  "kernelspec": {
   "display_name": "Python 3.7.7 64-bit ('3.7.7': pyenv)",
   "language": "python",
   "name": "python3"
  },
  "language_info": {
   "codemirror_mode": {
    "name": "ipython",
    "version": 3
   },
   "file_extension": ".py",
   "mimetype": "text/x-python",
   "name": "python",
   "nbconvert_exporter": "python",
   "pygments_lexer": "ipython3",
   "version": "3.7.7"
  },
  "orig_nbformat": 4
 },
 "nbformat": 4,
 "nbformat_minor": 2
}
