{
 "cells": [
  {
   "cell_type": "code",
   "execution_count": 2,
   "metadata": {},
   "outputs": [],
   "source": [
    "infile = \"day5.txt\""
   ]
  },
  {
   "cell_type": "code",
   "execution_count": 1,
   "metadata": {},
   "outputs": [],
   "source": [
    "from collections import Counter"
   ]
  },
  {
   "cell_type": "code",
   "execution_count": 43,
   "metadata": {},
   "outputs": [],
   "source": [
    "class Line:\n",
    "    def __init__(self, a, b):\n",
    "        self.a = a\n",
    "        self.b = b\n",
    "\n",
    "    def __repr__(self):\n",
    "        return f\"{self.a},{self.b}\"\n",
    "\n",
    "    def range(self, x1, x2):\n",
    "        if x1 <= x2:\n",
    "            yield from range(x1, x2+1)\n",
    "        if x1 > x2:\n",
    "            yield from range(x1, x2-1, -1)\n",
    "    \n",
    "    def points(self):\n",
    "        x1, y1 = self.a\n",
    "        x2, y2 = self.b\n",
    "        if y1 == y2:\n",
    "            # horizontal\n",
    "            for x in self.range(x1, x2):\n",
    "                yield x, y1\n",
    "        elif x1 == x2:\n",
    "            # vertical\n",
    "            for y in self.range(y1, y2):\n",
    "                yield x1, y\n",
    "        elif abs(x2 - x1) == abs(y2 - y1):\n",
    "            # diagonal\n",
    "            yield from zip(self.range(x1, x2), self.range(y1, y2))"
   ]
  },
  {
   "cell_type": "code",
   "execution_count": 44,
   "metadata": {},
   "outputs": [],
   "source": [
    "def parse_line(s):\n",
    "    s = s.rstrip()\n",
    "    a, b = s.split(\" -> \", 2)\n",
    "    x1, y1 = [int(x) for x in a.split(\",\", 2)]\n",
    "    x2, y2 = [int(x) for x in b.split(\",\", 2)]\n",
    "    return Line((x1, y1), (x2, y2))"
   ]
  },
  {
   "cell_type": "code",
   "execution_count": 45,
   "metadata": {},
   "outputs": [
    {
     "name": "stdout",
     "output_type": "stream",
     "text": [
      "22037\n"
     ]
    }
   ],
   "source": [
    "pts = Counter()\n",
    "\n",
    "with open(infile) as fd:\n",
    "    for i, line in enumerate(fd):\n",
    "        l = parse_line(line)\n",
    "        p = list(l.points())\n",
    "        pts.update(p)\n",
    "\n",
    "print(sum(1 for k, v in pts.items() if v >= 2))"
   ]
  }
 ],
 "metadata": {
  "interpreter": {
   "hash": "a49a3667c99b9642d03d5d64758329c9f74c3eae43701fd6be4f97bde07c93ac"
  },
  "kernelspec": {
   "display_name": "Python 3.7.7 64-bit ('3.7.7': pyenv)",
   "language": "python",
   "name": "python3"
  },
  "language_info": {
   "codemirror_mode": {
    "name": "ipython",
    "version": 3
   },
   "file_extension": ".py",
   "mimetype": "text/x-python",
   "name": "python",
   "nbconvert_exporter": "python",
   "pygments_lexer": "ipython3",
   "version": "3.7.7"
  },
  "orig_nbformat": 4
 },
 "nbformat": 4,
 "nbformat_minor": 2
}
