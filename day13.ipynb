{
 "cells": [
  {
   "cell_type": "code",
   "execution_count": 1,
   "metadata": {},
   "outputs": [],
   "source": [
    "infile = \"day13.txt\""
   ]
  },
  {
   "cell_type": "code",
   "execution_count": 2,
   "metadata": {},
   "outputs": [],
   "source": [
    "def parse(fd):\n",
    "    pts = set()\n",
    "    instructions = []\n",
    "    for line in fd:\n",
    "        line = line.rstrip()\n",
    "        if not line:\n",
    "            break\n",
    "        point = tuple(map(int, line.split(',', 2)))\n",
    "        pts.add(point)\n",
    "    for line in fd:\n",
    "        axis, i = line.split(maxsplit=4)[2].split(\"=\", 2)\n",
    "        instructions.append((axis, int(i)))\n",
    "    return pts, instructions"
   ]
  },
  {
   "cell_type": "code",
   "execution_count": 3,
   "metadata": {},
   "outputs": [],
   "source": [
    "with open(infile) as fd:\n",
    "    pts, instructions = parse(fd)"
   ]
  },
  {
   "cell_type": "code",
   "execution_count": 4,
   "metadata": {},
   "outputs": [],
   "source": [
    "def fold(pts, axis, i):\n",
    "    result = set()\n",
    "    if axis == \"x\":\n",
    "        for x, y in pts:\n",
    "            if x > i:\n",
    "                x = 2*i - x\n",
    "            result.add((x, y))\n",
    "    elif axis == \"y\":\n",
    "        for x, y in pts:\n",
    "            if y > i:\n",
    "                y = 2*i - y\n",
    "            result.add((x, y))\n",
    "    return result\n",
    "\n",
    "def reset(pts):\n",
    "    result = set()\n",
    "    x_min = min(pts)[0]\n",
    "    y_min = min(pts, key=lambda x: x[1])[1]\n",
    "    for x, y in pts:\n",
    "        result.add((x - x_min, y - y_min))\n",
    "    return result\n",
    "\n",
    "def print_grid(pts):\n",
    "    pts = reset(pts)\n",
    "    x_max = max(pts)[0] + 1\n",
    "    y_max = max(pts, key=lambda x: x[1])[1] + 1\n",
    "    grid = [[False]*x_max for _ in range(y_max)]\n",
    "    for x, y in pts:\n",
    "        grid[y][x] = True\n",
    "    print('\\n'.join(''.join('#' if cell else ' ' for cell in row) for row in grid))\n"
   ]
  },
  {
   "cell_type": "code",
   "execution_count": 5,
   "metadata": {},
   "outputs": [
    {
     "name": "stdout",
     "output_type": "stream",
     "text": [
      " ##  ####   ## #  # #    #  #  ##    ##\n",
      "#  # #       # # #  #    #  # #  #    #\n",
      "#    ###     # ##   #    #  # #       #\n",
      "#    #       # # #  #    #  # # ##    #\n",
      "#  # #    #  # # #  #    #  # #  # #  #\n",
      " ##  ####  ##  #  # ####  ##   ###  ## \n"
     ]
    }
   ],
   "source": [
    "for axis, i in instructions:\n",
    "    pts = fold(pts, axis, i)\n",
    "print_grid(pts)"
   ]
  }
 ],
 "metadata": {
  "interpreter": {
   "hash": "a49a3667c99b9642d03d5d64758329c9f74c3eae43701fd6be4f97bde07c93ac"
  },
  "kernelspec": {
   "display_name": "Python 3.7.7 64-bit ('3.7.7': pyenv)",
   "language": "python",
   "name": "python3"
  },
  "language_info": {
   "codemirror_mode": {
    "name": "ipython",
    "version": 3
   },
   "file_extension": ".py",
   "mimetype": "text/x-python",
   "name": "python",
   "nbconvert_exporter": "python",
   "pygments_lexer": "ipython3",
   "version": "3.7.7"
  },
  "orig_nbformat": 4
 },
 "nbformat": 4,
 "nbformat_minor": 2
}
