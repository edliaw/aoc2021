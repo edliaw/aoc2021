{
 "cells": [
  {
   "cell_type": "code",
   "execution_count": 1,
   "metadata": {},
   "outputs": [],
   "source": [
    "infile = \"day10.txt\""
   ]
  },
  {
   "cell_type": "code",
   "execution_count": 2,
   "metadata": {},
   "outputs": [],
   "source": [
    "from bisect import insort\n",
    "from functools import reduce\n",
    "from statistics import median"
   ]
  },
  {
   "cell_type": "code",
   "execution_count": 3,
   "metadata": {},
   "outputs": [],
   "source": [
    "pairs = {\n",
    "    \"(\": \")\",\n",
    "    \"[\": \"]\",\n",
    "    \"{\": \"}\",\n",
    "    \"<\": \">\",\n",
    "}\n",
    "points = {\n",
    "    \")\": 3,\n",
    "    \"]\": 57,\n",
    "    \"}\": 1197,\n",
    "    \">\": 25137,\n",
    "}\n",
    "ac_points = {\n",
    "    \")\": 1,\n",
    "    \"]\": 2,\n",
    "    \"}\": 3,\n",
    "    \">\": 4,\n",
    "}"
   ]
  },
  {
   "cell_type": "code",
   "execution_count": 4,
   "metadata": {},
   "outputs": [],
   "source": [
    "def score_autocomplete(stack):\n",
    "    return reduce(lambda a, b: a*5+b, (ac_points[ch] for ch in stack[::-1]), 0)"
   ]
  },
  {
   "cell_type": "code",
   "execution_count": 5,
   "metadata": {},
   "outputs": [
    {
     "name": "stdout",
     "output_type": "stream",
     "text": [
      "193275\n",
      "2429644557\n"
     ]
    }
   ],
   "source": [
    "score = 0\n",
    "ac_score = []\n",
    "\n",
    "with open(infile) as fd:\n",
    "    for line in fd:\n",
    "        stack = []\n",
    "        for brace in line.rstrip():\n",
    "            end = pairs.get(brace)\n",
    "            if end:\n",
    "                stack.append(end)\n",
    "            else:\n",
    "                if brace != stack.pop():\n",
    "                    score += points[brace]\n",
    "                    break\n",
    "        else:\n",
    "            if stack:\n",
    "                insort(ac_score, score_autocomplete(stack))\n",
    "print(score)\n",
    "print(median(ac_score))"
   ]
  }
 ],
 "metadata": {
  "interpreter": {
   "hash": "a49a3667c99b9642d03d5d64758329c9f74c3eae43701fd6be4f97bde07c93ac"
  },
  "kernelspec": {
   "display_name": "Python 3.7.7 64-bit ('3.7.7': pyenv)",
   "language": "python",
   "name": "python3"
  },
  "language_info": {
   "codemirror_mode": {
    "name": "ipython",
    "version": 3
   },
   "file_extension": ".py",
   "mimetype": "text/x-python",
   "name": "python",
   "nbconvert_exporter": "python",
   "pygments_lexer": "ipython3",
   "version": "3.7.7"
  },
  "orig_nbformat": 4
 },
 "nbformat": 4,
 "nbformat_minor": 2
}
