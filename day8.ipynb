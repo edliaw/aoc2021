{
 "cells": [
  {
   "cell_type": "code",
   "execution_count": 33,
   "metadata": {},
   "outputs": [],
   "source": [
    "infile = \"day8.txt\""
   ]
  },
  {
   "cell_type": "code",
   "execution_count": 16,
   "metadata": {},
   "outputs": [],
   "source": [
    "from typing import List, Set\n",
    "from collections import Counter"
   ]
  },
  {
   "cell_type": "code",
   "execution_count": 42,
   "metadata": {},
   "outputs": [],
   "source": [
    "def parse_file(f):\n",
    "    for line in f:\n",
    "        line = line.rstrip().split(\" | \")\n",
    "        obs = [set(x) for x in line[0].split()]\n",
    "        output = [tuple(sorted(x)) for x in line[1].split()]\n",
    "        yield obs, output"
   ]
  },
  {
   "cell_type": "code",
   "execution_count": 34,
   "metadata": {},
   "outputs": [
    {
     "data": {
      "text/plain": [
       "274"
      ]
     },
     "execution_count": 34,
     "metadata": {},
     "output_type": "execute_result"
    }
   ],
   "source": [
    "counts = Counter()\n",
    "\n",
    "with open(infile) as fd:\n",
    "    for _, output in parse_file(fd):\n",
    "        for code in output:\n",
    "            counts[len(code)] += 1\n",
    "counts[2] + counts[3] + counts[4] + counts[7]"
   ]
  },
  {
   "cell_type": "code",
   "execution_count": 45,
   "metadata": {},
   "outputs": [],
   "source": [
    "def decode(obs: List[Set[str]]):\n",
    "    d = {}\n",
    "    d235 = []\n",
    "    d069 = []\n",
    "    for code in obs:\n",
    "        l = len(code)\n",
    "        if l == 2:\n",
    "            d[1] = code\n",
    "        elif l == 3:\n",
    "            d[7] = code\n",
    "        elif l == 4:\n",
    "            d[4] = code\n",
    "        elif l == 5:\n",
    "            d235.append(code)\n",
    "        elif l == 6:\n",
    "            d069.append(code)\n",
    "        elif l == 7:\n",
    "            d[8] = code\n",
    "    for i in range(len(d235)):\n",
    "        if d[1] < d235[i]:\n",
    "            d[3] = d235.pop(i)\n",
    "            break\n",
    "            \n",
    "    _bd = d[4] - d[1]\n",
    "    _dg = d[3] - d[7]\n",
    "    _d = _bd & _dg\n",
    "    _b = _bd - _d\n",
    "    for code in d235:\n",
    "        if _b < code:\n",
    "            d[5] = code\n",
    "        else:\n",
    "            d[2] = code\n",
    "    _e = d[2] - d[3]\n",
    "    for code in d069:\n",
    "        if not _d < code:\n",
    "            d[0] = code\n",
    "        elif _e < code:\n",
    "            d[6] = code\n",
    "        else:\n",
    "            d[9] = code\n",
    "    return {tuple(sorted(v)): str(k) for k, v in d.items()}\n",
    "\n",
    "    "
   ]
  },
  {
   "cell_type": "code",
   "execution_count": 46,
   "metadata": {},
   "outputs": [
    {
     "data": {
      "text/plain": [
       "1012089"
      ]
     },
     "execution_count": 46,
     "metadata": {},
     "output_type": "execute_result"
    }
   ],
   "source": [
    "total = 0\n",
    "\n",
    "with open(infile) as fd:\n",
    "    for obs, output in parse_file(fd):\n",
    "        d = decode(obs)\n",
    "        total += int(\"\".join(d[o] for o in output))\n",
    "total"
   ]
  }
 ],
 "metadata": {
  "interpreter": {
   "hash": "a49a3667c99b9642d03d5d64758329c9f74c3eae43701fd6be4f97bde07c93ac"
  },
  "kernelspec": {
   "display_name": "Python 3.7.7 64-bit ('3.7.7': pyenv)",
   "language": "python",
   "name": "python3"
  },
  "language_info": {
   "codemirror_mode": {
    "name": "ipython",
    "version": 3
   },
   "file_extension": ".py",
   "mimetype": "text/x-python",
   "name": "python",
   "nbconvert_exporter": "python",
   "pygments_lexer": "ipython3",
   "version": "3.7.7"
  },
  "orig_nbformat": 4
 },
 "nbformat": 4,
 "nbformat_minor": 2
}
