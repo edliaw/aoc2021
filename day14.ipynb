{
 "cells": [
  {
   "cell_type": "code",
   "execution_count": 1,
   "metadata": {},
   "outputs": [],
   "source": [
    "infile = \"day14.txt\""
   ]
  },
  {
   "cell_type": "code",
   "execution_count": 2,
   "metadata": {},
   "outputs": [],
   "source": [
    "def parse(fd):\n",
    "    template = next(fd).rstrip()\n",
    "    next(fd)\n",
    "    rules = {}\n",
    "    for line in fd:\n",
    "        line = line.rstrip().split(' -> ', 2)\n",
    "        rules[line[0]] = line[1]\n",
    "    return template, rules"
   ]
  },
  {
   "cell_type": "code",
   "execution_count": 3,
   "metadata": {},
   "outputs": [],
   "source": [
    "with open(infile) as fd:\n",
    "    template, rules = parse(fd)"
   ]
  },
  {
   "cell_type": "code",
   "execution_count": 4,
   "metadata": {},
   "outputs": [],
   "source": [
    "from collections import Counter\n",
    "from itertools import tee\n",
    "\n",
    "def sub_rules(rules, n):\n",
    "    if n <= 1:\n",
    "        return rules\n",
    "    prev = {p: Counter(s) for p, s in rules.items()}\n",
    "    for _ in range(n-1):\n",
    "        curr = {}\n",
    "        for p, s in rules.items():\n",
    "            c = Counter()\n",
    "            c.update(prev[p[0]+s])\n",
    "            c.update(s)\n",
    "            c.update(prev[s+p[1]])\n",
    "            curr[p] = c\n",
    "        prev = curr\n",
    "    return curr\n",
    "\n",
    "def pairwise(it):\n",
    "    a, b = tee(it)\n",
    "    next(b, None)\n",
    "    return zip(a, b)\n",
    "\n",
    "def count_template(t, sub_count):\n",
    "    c = Counter()\n",
    "    for s in pairwise(t):\n",
    "        s = ''.join(s)\n",
    "        c.update(s[0])\n",
    "        c.update(sub_count[s])\n",
    "    c.update(template[-1])\n",
    "    return c"
   ]
  },
  {
   "cell_type": "code",
   "execution_count": 5,
   "metadata": {},
   "outputs": [
    {
     "data": {
      "text/plain": [
       "3411"
      ]
     },
     "execution_count": 5,
     "metadata": {},
     "output_type": "execute_result"
    }
   ],
   "source": [
    "r10 = sub_rules(rules, 10)\n",
    "c = count_template(template, r10)\n",
    "max(c.values()) - min(c.values())"
   ]
  },
  {
   "cell_type": "code",
   "execution_count": 6,
   "metadata": {},
   "outputs": [
    {
     "data": {
      "text/plain": [
       "7477815755570"
      ]
     },
     "execution_count": 6,
     "metadata": {},
     "output_type": "execute_result"
    }
   ],
   "source": [
    "r40 = sub_rules(rules, 40)\n",
    "c = count_template(template, r40)\n",
    "max(c.values()) - min(c.values())"
   ]
  }
 ],
 "metadata": {
  "interpreter": {
   "hash": "a49a3667c99b9642d03d5d64758329c9f74c3eae43701fd6be4f97bde07c93ac"
  },
  "kernelspec": {
   "display_name": "Python 3.7.7 64-bit ('3.7.7': pyenv)",
   "language": "python",
   "name": "python3"
  },
  "language_info": {
   "codemirror_mode": {
    "name": "ipython",
    "version": 3
   },
   "file_extension": ".py",
   "mimetype": "text/x-python",
   "name": "python",
   "nbconvert_exporter": "python",
   "pygments_lexer": "ipython3",
   "version": "3.7.7"
  },
  "orig_nbformat": 4
 },
 "nbformat": 4,
 "nbformat_minor": 2
}
