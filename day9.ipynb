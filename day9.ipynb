{
 "cells": [
  {
   "cell_type": "code",
   "execution_count": 1,
   "metadata": {},
   "outputs": [],
   "source": [
    "infile = \"day9.txt\""
   ]
  },
  {
   "cell_type": "code",
   "execution_count": 2,
   "metadata": {},
   "outputs": [],
   "source": [
    "with open(infile) as fd:\n",
    "    grid = [[int(x) for x in line.rstrip()] for line in fd]"
   ]
  },
  {
   "cell_type": "code",
   "execution_count": 3,
   "metadata": {},
   "outputs": [],
   "source": [
    "seen = set()\n",
    "low_pt = set()\n",
    "\n",
    "neighbors = [\n",
    "    (1,0),\n",
    "    (-1,0),\n",
    "    (0,1),\n",
    "    (0,-1),\n",
    "]\n",
    "\n",
    "for x, row in enumerate(grid):\n",
    "    for y, h in enumerate(row):\n",
    "        if (x,y) in seen:\n",
    "            continue\n",
    "        seen.add((x,y))\n",
    "        for n in neighbors:\n",
    "            nx, ny = x+n[0], y+n[1]\n",
    "            if 0 <= nx < len(grid) and 0 <= ny < len(row):\n",
    "                if h < grid[nx][ny]:\n",
    "                    seen.add((nx, ny))\n",
    "                else:\n",
    "                    break\n",
    "        else:\n",
    "            low_pt.add((x,y))"
   ]
  },
  {
   "cell_type": "code",
   "execution_count": 4,
   "metadata": {},
   "outputs": [
    {
     "data": {
      "text/plain": [
       "465"
      ]
     },
     "execution_count": 4,
     "metadata": {},
     "output_type": "execute_result"
    }
   ],
   "source": [
    "sum(grid[x][y] + 1 for x,y in low_pt)\n",
    "    "
   ]
  },
  {
   "cell_type": "code",
   "execution_count": 5,
   "metadata": {},
   "outputs": [],
   "source": [
    "from heapq import heappushpop\n",
    "from queue import Queue\n",
    "\n",
    "top_basins = [0,0,0]\n",
    "total_seen = set()\n",
    "\n",
    "for (x,y) in low_pt:\n",
    "    if (x,y) in total_seen:\n",
    "        continue\n",
    "    # bfs\n",
    "    seen = set()\n",
    "    seen.add((x,y))\n",
    "    q = Queue()\n",
    "    q.put((x,y))\n",
    "    while not q.empty():\n",
    "        (x,y) = q.get()\n",
    "        for n in neighbors:\n",
    "            nx, ny = x+n[0], y+n[1]\n",
    "            if 0 <= nx < len(grid) and 0 <= ny < len(row):\n",
    "                if grid[nx][ny] < 9 and (nx,ny) not in seen:\n",
    "                    q.put((nx, ny))\n",
    "                    seen.add((nx,ny))\n",
    "    heappushpop(top_basins, len(seen))\n",
    "    total_seen.update(seen)\n"
   ]
  },
  {
   "cell_type": "code",
   "execution_count": 6,
   "metadata": {},
   "outputs": [
    {
     "data": {
      "text/plain": [
       "1269555"
      ]
     },
     "execution_count": 6,
     "metadata": {},
     "output_type": "execute_result"
    }
   ],
   "source": [
    "from functools import reduce\n",
    "from operator import mul\n",
    "\n",
    "reduce(mul, top_basins)"
   ]
  },
  {
   "cell_type": "code",
   "execution_count": 7,
   "metadata": {},
   "outputs": [
    {
     "data": {
      "text/plain": [
       "[105, 113, 107]"
      ]
     },
     "execution_count": 7,
     "metadata": {},
     "output_type": "execute_result"
    }
   ],
   "source": [
    "top_basins"
   ]
  }
 ],
 "metadata": {
  "interpreter": {
   "hash": "a49a3667c99b9642d03d5d64758329c9f74c3eae43701fd6be4f97bde07c93ac"
  },
  "kernelspec": {
   "display_name": "Python 3.7.7 64-bit ('3.7.7': pyenv)",
   "language": "python",
   "name": "python3"
  },
  "language_info": {
   "codemirror_mode": {
    "name": "ipython",
    "version": 3
   },
   "file_extension": ".py",
   "mimetype": "text/x-python",
   "name": "python",
   "nbconvert_exporter": "python",
   "pygments_lexer": "ipython3",
   "version": "3.7.7"
  },
  "orig_nbformat": 4
 },
 "nbformat": 4,
 "nbformat_minor": 2
}
