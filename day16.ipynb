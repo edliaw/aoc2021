{
 "cells": [
  {
   "cell_type": "code",
   "execution_count": 1,
   "metadata": {},
   "outputs": [],
   "source": [
    "infile = \"day16.txt\""
   ]
  },
  {
   "cell_type": "code",
   "execution_count": 2,
   "metadata": {},
   "outputs": [],
   "source": [
    "from itertools import islice\n",
    "from functools import partial\n",
    "import operator as op\n",
    "from math import prod\n",
    "\n",
    "def bifunctor(f, it):\n",
    "    a, b = tuple(it)\n",
    "    return int(f(a, b))\n",
    "\n",
    "types = {\n",
    "    0: sum,\n",
    "    1: prod,\n",
    "    2: min,\n",
    "    3: max,\n",
    "    5: partial(bifunctor, op.gt),\n",
    "    6: partial(bifunctor, op.lt),\n",
    "    7: partial(bifunctor, op.eq),\n",
    "}\n",
    "\n",
    "def hex2bin(hex_code):\n",
    "    return bin(int(hex_code, 16))[2:].zfill(4*len(hex_code))\n",
    "\n",
    "def bin2int(bin_code):\n",
    "    return int(bin_code, 2)\n",
    "\n",
    "def bin2hex(bin_code):\n",
    "    return hex(int(bin_code, 2))[2:]\n",
    "\n",
    "class Packet:\n",
    "    def __init__(self, bin_code, n=0):\n",
    "        self.it = iter(bin_code)\n",
    "        self.n = n\n",
    "        self.label = [' '] * n\n",
    "        self.ch = 0\n",
    "        self.vsum = 0\n",
    "\n",
    "    def __repr__(self):\n",
    "        return ''.join(self.label)\n",
    "    \n",
    "    def read(self, n):\n",
    "        self.n += n\n",
    "        self.label += [chr(ord('A') + self.ch)] * n\n",
    "        self.ch = (self.ch + 1) % 26\n",
    "        return ''.join(islice(self.it, n))\n",
    "\n",
    "    def read_literal(self):\n",
    "        five = self.read(5)\n",
    "        val = [five[1:]]\n",
    "        while five[0] == '1':\n",
    "            five = self.read(5)\n",
    "            val.append(five[1:])\n",
    "        val = bin2int(''.join(val))\n",
    "        return val\n",
    "    \n",
    "    def next(self):\n",
    "        version = bin2int(self.read(3))\n",
    "        self.vsum += version\n",
    "        type_id = bin2int(self.read(3))\n",
    "        if type_id == 4:\n",
    "            res = self.read_literal()\n",
    "        else:\n",
    "            len_type = bin2int(self.read(1))\n",
    "            f = types[type_id]\n",
    "            if len_type:\n",
    "                n_packets = bin2int(self.read(11))\n",
    "                #print(f\"Read next {n_packets}\")\n",
    "                val = [self.next() for _ in range(n_packets)]\n",
    "                res = f(val)\n",
    "            else:\n",
    "                len_packets = bin2int(self.read(15))\n",
    "                #print(f\"Read next {len_packets} bits\")\n",
    "                end = self.n + len_packets\n",
    "                val = []\n",
    "                while self.n < end:\n",
    "                    val.append(self.next())\n",
    "                res = f(val)\n",
    "        return res\n"
   ]
  },
  {
   "cell_type": "code",
   "execution_count": 3,
   "metadata": {},
   "outputs": [],
   "source": [
    "with open(infile) as fd:\n",
    "    hex_code = fd.read().rstrip()"
   ]
  },
  {
   "cell_type": "code",
   "execution_count": 4,
   "metadata": {},
   "outputs": [],
   "source": [
    "p = Packet(hex2bin(hex_code))\n",
    "bin_code = hex2bin(hex_code)"
   ]
  },
  {
   "cell_type": "code",
   "execution_count": 5,
   "metadata": {},
   "outputs": [
    {
     "name": "stdout",
     "output_type": "stream",
     "text": [
      "200476472872\n",
      "904\n"
     ]
    }
   ],
   "source": [
    "print(p.next())\n",
    "print(p.vsum)"
   ]
  },
  {
   "cell_type": "code",
   "execution_count": null,
   "metadata": {},
   "outputs": [],
   "source": []
  }
 ],
 "metadata": {
  "interpreter": {
   "hash": "a49a3667c99b9642d03d5d64758329c9f74c3eae43701fd6be4f97bde07c93ac"
  },
  "kernelspec": {
   "display_name": "Python 3.7.7 64-bit ('3.7.7': pyenv)",
   "language": "python",
   "name": "python3"
  },
  "language_info": {
   "codemirror_mode": {
    "name": "ipython",
    "version": 3
   },
   "file_extension": ".py",
   "mimetype": "text/x-python",
   "name": "python",
   "nbconvert_exporter": "python",
   "pygments_lexer": "ipython3",
   "version": "3.8.12"
  },
  "orig_nbformat": 4
 },
 "nbformat": 4,
 "nbformat_minor": 2
}
