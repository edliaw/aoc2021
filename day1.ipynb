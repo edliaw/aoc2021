{
 "cells": [
  {
   "cell_type": "code",
   "execution_count": 1,
   "metadata": {},
   "outputs": [],
   "source": [
    "infile = \"day1.txt\""
   ]
  },
  {
   "cell_type": "code",
   "execution_count": 2,
   "metadata": {},
   "outputs": [
    {
     "name": "stdout",
     "output_type": "stream",
     "text": [
      "1446\n"
     ]
    }
   ],
   "source": [
    "\n",
    "count = 0\n",
    "with open(infile) as fd:\n",
    "    prev = int(next(fd).rstrip())\n",
    "    for line in fd:\n",
    "        curr = int(line.rstrip())\n",
    "        if curr > prev:\n",
    "            count += 1\n",
    "        prev = curr\n",
    "print(count)"
   ]
  },
  {
   "cell_type": "code",
   "execution_count": 3,
   "metadata": {},
   "outputs": [
    {
     "name": "stdout",
     "output_type": "stream",
     "text": [
      "1486\n"
     ]
    }
   ],
   "source": [
    "count = 0\n",
    "with open(infile) as fd:\n",
    "    n1 = int(next(fd).rstrip())\n",
    "    n2 = int(next(fd).rstrip())\n",
    "    n3 = int(next(fd).rstrip())\n",
    "    for line in fd:\n",
    "        n0, n1, n2, n3 = n1, n2, n3, int(line.rstrip())\n",
    "        if n3 > n0:\n",
    "            count += 1\n",
    "print(count)"
   ]
  }
 ],
 "metadata": {
  "interpreter": {
   "hash": "a49a3667c99b9642d03d5d64758329c9f74c3eae43701fd6be4f97bde07c93ac"
  },
  "kernelspec": {
   "display_name": "Python 3.7.7 64-bit ('3.7.7': pyenv)",
   "language": "python",
   "name": "python3"
  },
  "language_info": {
   "codemirror_mode": {
    "name": "ipython",
    "version": 3
   },
   "file_extension": ".py",
   "mimetype": "text/x-python",
   "name": "python",
   "nbconvert_exporter": "python",
   "pygments_lexer": "ipython3",
   "version": "3.7.7"
  },
  "orig_nbformat": 4
 },
 "nbformat": 4,
 "nbformat_minor": 2
}
