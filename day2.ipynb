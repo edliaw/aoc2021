{
 "cells": [
  {
   "cell_type": "code",
   "execution_count": 1,
   "metadata": {},
   "outputs": [],
   "source": [
    "infile = \"day2.txt\""
   ]
  },
  {
   "cell_type": "code",
   "execution_count": 5,
   "metadata": {},
   "outputs": [
    {
     "name": "stdout",
     "output_type": "stream",
     "text": [
      "1840243\n"
     ]
    }
   ],
   "source": [
    "hpos = 0\n",
    "vpos = 0\n",
    "with open(infile) as fd:\n",
    "    for line in fd:\n",
    "        direction, n = line.rstrip().split(\" \", 2)\n",
    "        n = int(n)\n",
    "        if direction == \"forward\":\n",
    "            hpos += n\n",
    "        elif direction == \"up\":\n",
    "            vpos -= n\n",
    "        elif direction == \"down\":\n",
    "            vpos += n\n",
    "print(vpos * hpos)\n"
   ]
  },
  {
   "cell_type": "code",
   "execution_count": 2,
   "metadata": {},
   "outputs": [
    {
     "name": "stdout",
     "output_type": "stream",
     "text": [
      "1727785422\n"
     ]
    }
   ],
   "source": [
    "hpos = 0\n",
    "vpos = 0\n",
    "aim = 0\n",
    "with open(infile) as fd:\n",
    "    for line in fd:\n",
    "        direction, n = line.rstrip().split(\" \", 2)\n",
    "        n = int(n)\n",
    "        if direction == \"forward\":\n",
    "            hpos += n\n",
    "            vpos += aim * n\n",
    "        elif direction == \"up\":\n",
    "            aim -= n\n",
    "        elif direction == \"down\":\n",
    "            aim += n\n",
    "print(vpos * hpos)"
   ]
  }
 ],
 "metadata": {
  "interpreter": {
   "hash": "a49a3667c99b9642d03d5d64758329c9f74c3eae43701fd6be4f97bde07c93ac"
  },
  "kernelspec": {
   "display_name": "Python 3.7.7 64-bit ('3.7.7': pyenv)",
   "language": "python",
   "name": "python3"
  },
  "language_info": {
   "codemirror_mode": {
    "name": "ipython",
    "version": 3
   },
   "file_extension": ".py",
   "mimetype": "text/x-python",
   "name": "python",
   "nbconvert_exporter": "python",
   "pygments_lexer": "ipython3",
   "version": "3.7.7"
  },
  "orig_nbformat": 4
 },
 "nbformat": 4,
 "nbformat_minor": 2
}
