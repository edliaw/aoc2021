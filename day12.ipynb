{
 "cells": [
  {
   "cell_type": "code",
   "execution_count": 3,
   "metadata": {},
   "outputs": [],
   "source": [
    "infile = \"day12.txt\""
   ]
  },
  {
   "cell_type": "code",
   "execution_count": 9,
   "metadata": {},
   "outputs": [],
   "source": [
    "from collections import defaultdict\n",
    "\n",
    "def parse(fd):\n",
    "    graph = defaultdict(set)\n",
    "    for line in fd:\n",
    "        s, e = line.rstrip().split(\"-\", 2)\n",
    "        graph[s].add(e)\n",
    "        graph[e].add(s)\n",
    "    return graph"
   ]
  },
  {
   "cell_type": "code",
   "execution_count": 62,
   "metadata": {},
   "outputs": [],
   "source": [
    "with open(infile) as fd:\n",
    "    graph = parse(fd)"
   ]
  },
  {
   "cell_type": "code",
   "execution_count": 63,
   "metadata": {},
   "outputs": [],
   "source": [
    "def dfs(graph, node, seen_once):\n",
    "    if node in seen_once:\n",
    "        return 0\n",
    "    if node == 'end':\n",
    "        return 1\n",
    "    if node.islower():\n",
    "        seen_once = seen_once | {node}\n",
    "    return sum(dfs(graph, conn, seen_once) for conn in graph[node] if conn != \"start\")\n"
   ]
  },
  {
   "cell_type": "code",
   "execution_count": 64,
   "metadata": {},
   "outputs": [
    {
     "data": {
      "text/plain": [
       "3563"
      ]
     },
     "execution_count": 64,
     "metadata": {},
     "output_type": "execute_result"
    }
   ],
   "source": [
    "dfs(graph, 'start', set())"
   ]
  },
  {
   "cell_type": "code",
   "execution_count": 65,
   "metadata": {},
   "outputs": [],
   "source": [
    "def dfs2(graph, node, seen_once, seen_twice):\n",
    "    if node in seen_twice or (seen_twice and node in seen_once):\n",
    "        return 0\n",
    "    if node == 'end':\n",
    "        return 1\n",
    "    if node.islower():\n",
    "        if node in seen_once:\n",
    "            seen_twice = seen_twice | {node}\n",
    "        else:\n",
    "            seen_once = seen_once | {node}\n",
    "    return sum(dfs2(graph, conn, seen_once, seen_twice) for conn in graph[node] if conn != \"start\")\n"
   ]
  },
  {
   "cell_type": "code",
   "execution_count": 66,
   "metadata": {},
   "outputs": [
    {
     "data": {
      "text/plain": [
       "105453"
      ]
     },
     "execution_count": 66,
     "metadata": {},
     "output_type": "execute_result"
    }
   ],
   "source": [
    "dfs2(graph, 'start', set(), set())"
   ]
  },
  {
   "cell_type": "code",
   "execution_count": null,
   "metadata": {},
   "outputs": [],
   "source": []
  }
 ],
 "metadata": {
  "interpreter": {
   "hash": "a49a3667c99b9642d03d5d64758329c9f74c3eae43701fd6be4f97bde07c93ac"
  },
  "kernelspec": {
   "display_name": "Python 3.7.7 64-bit ('3.7.7': pyenv)",
   "language": "python",
   "name": "python3"
  },
  "language_info": {
   "codemirror_mode": {
    "name": "ipython",
    "version": 3
   },
   "file_extension": ".py",
   "mimetype": "text/x-python",
   "name": "python",
   "nbconvert_exporter": "python",
   "pygments_lexer": "ipython3",
   "version": "3.7.7"
  },
  "orig_nbformat": 4
 },
 "nbformat": 4,
 "nbformat_minor": 2
}
