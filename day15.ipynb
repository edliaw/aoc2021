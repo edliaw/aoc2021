{
 "cells": [
  {
   "cell_type": "code",
   "execution_count": 1,
   "metadata": {},
   "outputs": [],
   "source": [
    "infile = \"day15.txt\""
   ]
  },
  {
   "cell_type": "code",
   "execution_count": 2,
   "metadata": {},
   "outputs": [],
   "source": [
    "import numpy as np\n",
    "with open(infile) as fd:\n",
    "    grid = np.array([[int(ch) for ch in line.rstrip()] for line in fd], np.int32)"
   ]
  },
  {
   "cell_type": "code",
   "execution_count": 3,
   "metadata": {},
   "outputs": [],
   "source": [
    "from queue import PriorityQueue\n",
    "from collections import defaultdict\n",
    "\n",
    "neighbors = [(-1, 0), (0, -1), (1, 0), (0, 1)]\n",
    "\n",
    "def trace_back(grid, path, curr):\n",
    "    tr = np.ndarray(grid.shape, dtype='U1')\n",
    "    tr[:] = \" \"\n",
    "    tr[curr] = \"#\"\n",
    "    while curr in path:\n",
    "        curr = path[curr]\n",
    "        tr[curr] = '#'\n",
    "    return tr\n",
    "\n",
    "def a_star(start, end, grid):\n",
    "    path = {}\n",
    "    cheapest = defaultdict(lambda: float('inf'))\n",
    "    cheapest[start] = 0\n",
    "    q = PriorityQueue()\n",
    "    q.put((0, start))\n",
    "    seen = set()\n",
    "    seen.add(start)\n",
    "    while not q.empty():\n",
    "        _, curr = q.get()\n",
    "        seen.remove(curr)\n",
    "        if curr == end:\n",
    "            return (cheapest[curr], trace_back(grid, path, curr))\n",
    "        for dx, dy in neighbors:\n",
    "            n = (curr[0]+dx, curr[1]+dy)\n",
    "            if not (0 <= n[0] < grid.shape[0] and 0 <= n[1] < grid.shape[1]):\n",
    "                continue\n",
    "            cost = cheapest[curr] + grid[n]\n",
    "            if cost < cheapest[n]:\n",
    "                path[n] = curr\n",
    "                cheapest[n] = cost\n",
    "                if n not in seen:\n",
    "                    q.put((cost, n))\n",
    "                    seen.add(n)"
   ]
  },
  {
   "cell_type": "code",
   "execution_count": 4,
   "metadata": {},
   "outputs": [
    {
     "data": {
      "text/plain": [
       "(583,\n",
       " array([['#', '#', '#', ..., ' ', ' ', ' '],\n",
       "        [' ', ' ', ' ', ..., ' ', ' ', ' '],\n",
       "        [' ', ' ', ' ', ..., ' ', ' ', ' '],\n",
       "        ...,\n",
       "        [' ', ' ', ' ', ..., ' ', ' ', ' '],\n",
       "        [' ', ' ', ' ', ..., '#', '#', ' '],\n",
       "        [' ', ' ', ' ', ..., ' ', '#', '#']], dtype='<U1'))"
      ]
     },
     "execution_count": 4,
     "metadata": {},
     "output_type": "execute_result"
    }
   ],
   "source": [
    "start = (0, 0)\n",
    "end = (grid.shape[0]-1, grid.shape[1]-1)\n",
    "a_star(start, end, grid)"
   ]
  },
  {
   "cell_type": "code",
   "execution_count": 5,
   "metadata": {},
   "outputs": [],
   "source": [
    "def _rot(n):\n",
    "    return n % 9 + 1\n",
    "\n",
    "rot = np.vectorize(_rot)\n",
    "\n",
    "def expand(grid):\n",
    "    dim = 5\n",
    "    full_grid = [[None for _ in range(dim)] for _ in range(dim)]\n",
    "    full_grid[0][0] = grid\n",
    "    for n in range(1, dim):\n",
    "        grid = rot(grid)\n",
    "        for x in range(n + 1):\n",
    "            #print(n)\n",
    "            y = n - x\n",
    "            full_grid[x][y] = grid\n",
    "    for n in range(1, dim):\n",
    "        grid = rot(grid)\n",
    "        for x in range(n, dim):\n",
    "            #print(n+dim-1)\n",
    "            y = dim - 1 + n - x\n",
    "            full_grid[x][y] = grid\n",
    "    return np.block(full_grid)"
   ]
  },
  {
   "cell_type": "code",
   "execution_count": 6,
   "metadata": {},
   "outputs": [],
   "source": [
    "full_grid = expand(grid)"
   ]
  },
  {
   "cell_type": "code",
   "execution_count": 7,
   "metadata": {},
   "outputs": [],
   "source": [
    "start = (0, 0)\n",
    "end = (full_grid.shape[0]-1, full_grid.shape[1]-1)\n",
    "min_cost, path = a_star(start, end, full_grid)"
   ]
  },
  {
   "cell_type": "code",
   "execution_count": 8,
   "metadata": {},
   "outputs": [],
   "source": [
    "#print('\\n'.join(''.join(row) for row in path))"
   ]
  }
 ],
 "metadata": {
  "interpreter": {
   "hash": "a49a3667c99b9642d03d5d64758329c9f74c3eae43701fd6be4f97bde07c93ac"
  },
  "kernelspec": {
   "display_name": "Python 3.7.7 64-bit ('3.7.7': pyenv)",
   "language": "python",
   "name": "python3"
  },
  "language_info": {
   "codemirror_mode": {
    "name": "ipython",
    "version": 3
   },
   "file_extension": ".py",
   "mimetype": "text/x-python",
   "name": "python",
   "nbconvert_exporter": "python",
   "pygments_lexer": "ipython3",
   "version": "3.7.7"
  },
  "orig_nbformat": 4
 },
 "nbformat": 4,
 "nbformat_minor": 2
}
