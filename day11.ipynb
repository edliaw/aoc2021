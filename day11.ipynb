{
 "cells": [
  {
   "cell_type": "code",
   "execution_count": 1,
   "metadata": {},
   "outputs": [],
   "source": [
    "infile = \"day11.txt\""
   ]
  },
  {
   "cell_type": "code",
   "execution_count": 2,
   "metadata": {},
   "outputs": [],
   "source": [
    "from queue import Queue"
   ]
  },
  {
   "cell_type": "code",
   "execution_count": 7,
   "metadata": {},
   "outputs": [],
   "source": [
    "directions = [\n",
    "    (-1, 0),\n",
    "    (1, 0),\n",
    "    (0, -1),\n",
    "    (0, 1),\n",
    "    (-1, -1),\n",
    "    (-1, 1),\n",
    "    (1, -1),\n",
    "    (1, 1),\n",
    "]"
   ]
  },
  {
   "cell_type": "code",
   "execution_count": 60,
   "metadata": {},
   "outputs": [],
   "source": [
    "def next_step(grid):\n",
    "    count = 0\n",
    "    flashers = Queue()\n",
    "    for x, row in enumerate(grid):\n",
    "        for y in range(len(row)):\n",
    "            grid[x][y] += 1\n",
    "            if grid[x][y] > 9:\n",
    "                flashers.put((x,y))\n",
    "    while not flashers.empty():\n",
    "        x,y = flashers.get()\n",
    "        if grid[x][y] == 0:\n",
    "            continue\n",
    "        grid[x][y] = 0\n",
    "        count += 1\n",
    "        for xd, yd in directions:\n",
    "            xn, yn = x+xd, y+yd\n",
    "            if 0 <= xn < len(grid) and 0 <= yn < len(row):\n",
    "                if grid[xn][yn] == 0:\n",
    "                    continue\n",
    "                grid[xn][yn] += 1\n",
    "                if grid[xn][yn] > 9:\n",
    "                    flashers.put((xn,yn))\n",
    "    return count"
   ]
  },
  {
   "cell_type": "code",
   "execution_count": 65,
   "metadata": {},
   "outputs": [],
   "source": [
    "with open(infile) as fd:\n",
    "    grid = [[int(nrg) for nrg in row.rstrip()] for row in fd]"
   ]
  },
  {
   "cell_type": "code",
   "execution_count": 66,
   "metadata": {},
   "outputs": [
    {
     "data": {
      "text/plain": [
       "1702"
      ]
     },
     "execution_count": 66,
     "metadata": {},
     "output_type": "execute_result"
    }
   ],
   "source": [
    "sum(next_step(grid) for _ in range(100))"
   ]
  },
  {
   "cell_type": "code",
   "execution_count": null,
   "metadata": {},
   "outputs": [],
   "source": []
  }
 ],
 "metadata": {
  "interpreter": {
   "hash": "a49a3667c99b9642d03d5d64758329c9f74c3eae43701fd6be4f97bde07c93ac"
  },
  "kernelspec": {
   "display_name": "Python 3.7.7 64-bit ('3.7.7': pyenv)",
   "language": "python",
   "name": "python3"
  },
  "language_info": {
   "codemirror_mode": {
    "name": "ipython",
    "version": 3
   },
   "file_extension": ".py",
   "mimetype": "text/x-python",
   "name": "python",
   "nbconvert_exporter": "python",
   "pygments_lexer": "ipython3",
   "version": "3.7.7"
  },
  "orig_nbformat": 4
 },
 "nbformat": 4,
 "nbformat_minor": 2
}
