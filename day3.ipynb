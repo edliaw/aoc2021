{
 "cells": [
  {
   "cell_type": "code",
   "execution_count": 2,
   "metadata": {},
   "outputs": [],
   "source": [
    "infile = \"day3.txt\""
   ]
  },
  {
   "cell_type": "code",
   "execution_count": 6,
   "metadata": {},
   "outputs": [
    {
     "name": "stdout",
     "output_type": "stream",
     "text": [
      "3985686\n"
     ]
    }
   ],
   "source": [
    "counts = [0]*12\n",
    "N = 0\n",
    "with open(infile) as fd:\n",
    "    for line in fd:\n",
    "        N += 1\n",
    "        for i, bit in enumerate(line.rstrip()):\n",
    "            counts[i] += int(bit)\n",
    "gamma = []\n",
    "epsilon = []\n",
    "for c in counts:\n",
    "    if c >= N//2:\n",
    "        gamma.append(\"1\")\n",
    "        epsilon.append(\"0\")\n",
    "    else:\n",
    "        gamma.append(\"0\")\n",
    "        epsilon.append(\"1\")\n",
    "print(int(\"\".join(gamma),2) * int(\"\".join(epsilon),2))"
   ]
  },
  {
   "cell_type": "code",
   "execution_count": 32,
   "metadata": {},
   "outputs": [
    {
     "name": "stdout",
     "output_type": "stream",
     "text": [
      "2781 919\n",
      "2555739\n"
     ]
    }
   ],
   "source": [
    "with open(infile) as fd:\n",
    "    nums = [l.rstrip() for l in fd.readlines()]\n",
    "\n",
    "def filter_crit(nums, most = \"1\", least = \"0\"):\n",
    "    width = len(nums[0])\n",
    "    for i in range(width):\n",
    "        if len(nums) == 1:\n",
    "            return nums.pop()\n",
    "        counts = 0\n",
    "        for line in nums:\n",
    "            counts += int(line[i])\n",
    "        if 2 * counts >= len(nums):\n",
    "            nums = [x for x in nums if x[i] == most]\n",
    "        else:\n",
    "            nums = [x for x in nums if x[i] == least]\n",
    "    return nums.pop()\n",
    "\n",
    "o2 = filter_crit(nums, \"1\", \"0\")\n",
    "co2 = filter_crit(nums, \"0\", \"1\")\n",
    "print(int(o2,2) * int(co2,2))"
   ]
  }
 ],
 "metadata": {
  "interpreter": {
   "hash": "a49a3667c99b9642d03d5d64758329c9f74c3eae43701fd6be4f97bde07c93ac"
  },
  "kernelspec": {
   "display_name": "Python 3.7.7 64-bit ('3.7.7': pyenv)",
   "language": "python",
   "name": "python3"
  },
  "language_info": {
   "codemirror_mode": {
    "name": "ipython",
    "version": 3
   },
   "file_extension": ".py",
   "mimetype": "text/x-python",
   "name": "python",
   "nbconvert_exporter": "python",
   "pygments_lexer": "ipython3",
   "version": "3.7.7"
  },
  "orig_nbformat": 4
 },
 "nbformat": 4,
 "nbformat_minor": 2
}
